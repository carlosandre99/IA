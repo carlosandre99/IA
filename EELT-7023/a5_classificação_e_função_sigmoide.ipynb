{
  "cells": [
    {
      "cell_type": "markdown",
      "id": "0e66b4b5",
      "metadata": {
        "id": "0e66b4b5",
        "pycharm": {
          "name": "#%% md\n"
        }
      },
      "source": [
        "# Classificação e Função Sigmoide\n"
      ]
    },
    {
      "cell_type": "markdown",
      "id": "d49c02b7",
      "metadata": {
        "id": "d49c02b7",
        "pycharm": {
          "name": "#%% md\n"
        }
      },
      "source": [
        "## Objetivos\n",
        "\n",
        "Com este código, você irá:\n",
        "- Explorar o conceito de classificação\n",
        "- Explorar a função sigmoide (também conhecida como função logística)"
      ]
    },
    {
      "cell_type": "code",
      "execution_count": 1,
      "id": "77673a9e",
      "metadata": {
        "id": "77673a9e",
        "pycharm": {
          "name": "#%%\n"
        }
      },
      "outputs": [],
      "source": [
        "import numpy as np\n",
        "import matplotlib.pyplot as plt\n",
        "np.set_printoptions(precision=2)"
      ]
    },
    {
      "cell_type": "markdown",
      "id": "d8f877bb",
      "metadata": {
        "id": "d8f877bb",
        "pycharm": {
          "name": "#%% md\n"
        }
      },
      "source": [
        "## Problemas de Classificação\n",
        "\n",
        "Exemplos de problemas de classificação são coisas como:\n",
        "- Identificar se o e-mail é SPAM ou não\n",
        "- Determinar se um tumor é maligno ou beningo\n",
        "\n",
        "Especificamente, esses são problemas de classificação binária, onde só existem dois possíveis valores de saída.\n",
        "Esses valores de saída podem ser descritos como 'positivo'/'negativo', 'sim'/'não', 'verdadeiro'/'falso' ou '1'/'0'\n",
        "\n",
        "As figuras feitas para problemas de classificação geralmente usam símbolos para indicar o valor de saída de uma amostra. Nos gráficos abaixo, 'X' é usado para representar valores positivos e 'O' é usado para representar valores negativos."
      ]
    },
    {
      "cell_type": "code",
      "execution_count": 2,
      "id": "978f6d50",
      "metadata": {
        "colab": {
          "base_uri": "https://localhost:8080/",
          "height": 306
        },
        "id": "978f6d50",
        "outputId": "15e4186d-eccb-4605-af47-6c14225d104a"
      },
      "outputs": [
        {
          "data": {
            "image/png": "[encoded data removed]",
            "text/plain": [
              "<Figure size 800x300 with 2 Axes>"
            ]
          },
          "metadata": {},
          "output_type": "display_data"
        }
      ],
      "source": [
        "x_train = np.array([0., 1, 2, 3, 4, 5])\n",
        "y_train = np.array([0,  0, 0, 1, 1, 1])\n",
        "\n",
        "pos = y_train == 1\n",
        "neg = y_train == 0\n",
        "\n",
        "fig,ax = plt.subplots(1,2,figsize=(8,3))\n",
        "ax[0].scatter(x_train[pos], y_train[pos], marker='x', s=80, c = 'red', label=\"y=1\")\n",
        "ax[0].scatter(x_train[neg], y_train[neg], marker='o', s=100, label=\"y=0\", facecolors='none',\n",
        "              edgecolors='b',lw=3)\n",
        "\n",
        "ax[0].set_ylim(-0.08,1.1)\n",
        "ax[0].set_ylabel('y', fontsize=12)\n",
        "ax[0].set_xlabel('x', fontsize=12)\n",
        "ax[0].set_title('Plotando problema com uma variável')\n",
        "ax[0].legend()\n",
        "\n",
        "\n",
        "X_train2 = np.array([[0.5, 1.5], [1,1], [1.5, 0.5], [3, 0.5], [2, 2], [1, 2.5]])\n",
        "y_train2 = np.array([0, 0, 0, 1, 1, 1])\n",
        "pos      = y_train2 == 1\n",
        "neg      = y_train2 == 0\n",
        "\n",
        "ax[1].scatter(X_train2[pos,0], X_train2[pos,1], marker='x', s=80, c = 'red', label=\"y=1\")\n",
        "ax[1].scatter(X_train2[neg,0], X_train2[neg,1], marker='o', s=100, label=\"y=0\", facecolors='none',\n",
        "              edgecolors='b',lw=3)\n",
        "ax[1].axis([0, 4, 0, 4])\n",
        "ax[1].set_ylabel('$x_1$', fontsize=12)\n",
        "ax[1].set_xlabel('$x_0$', fontsize=12)\n",
        "ax[1].set_title('Plotando problema com duas variáveis')\n",
        "ax[1].legend()\n",
        "plt.tight_layout()\n",
        "plt.show()\n"
      ]
    },
    {
      "cell_type": "markdown",
      "id": "9c680b57",
      "metadata": {
        "id": "9c680b57",
        "pycharm": {
          "name": "#%% md\n"
        }
      },
      "source": [
        "## Função Sigmoide\n",
        "\n",
        "Conforme discutido, num problema de classificação, nós podemos começar pensando num modelo de regressão $f_{\\mathbf{w},b}(\\mathbf{x}^{(i)}) = \\mathbf{w} \\cdot  \\mathbf{x}^{(i)} + b$, para prever $y$ dado $x$.\n",
        "- Entretanto, nós gostaríamos que as previsões feitas pelo modelo de classificação fossem entre 0 e 1, uma vez que nossa variável de saída é ou 0 ou 1.\n",
        "- Isso pode ser obtido usando a função sigmoide, que mapeia todos os valores de entrada para valores entre 0 e 1.\n",
        "\n",
        "\n",
        "Vamos agora implementar essa função.\n",
        "\n",
        "\n",
        "## Fórmula para a função sigmoide\n",
        "\n",
        "A equação para a função sigmoide é\n",
        "\n",
        "$g(z) = \\frac{1}{1+e^{-z}}\\tag{1}$\n",
        "\n",
        "No caso da Regressão Logística, z (entrada da função sigmoide) é a saída do modelo de regressão linear.\n",
        "- No caso de uma única amostra, $z$ é um escalar\n",
        "- No caso de múltiplas amostras (exemplos), $z$ pode ser um vetor com $m$ valores, um para cada amostra\n",
        "- A implementação da função sigmoide deve levar em conta essas duas possibildades de formato de dados de entrada"
      ]
    },
    {
      "cell_type": "markdown",
      "id": "ab798bc7",
      "metadata": {
        "id": "ab798bc7",
        "pycharm": {
          "name": "#%% md\n"
        }
      },
      "source": [
        "NumPy tem a função chamada [`exp()`](https://numpy.org/doc/stable/reference/generated/numpy.exp.html), que fornece uma forma conveninente para calcular a exponencial ( $e^{z}$) de todos os elementos presentes na array de entrada (`z`).\n",
        "\n",
        "Isso também funciona para escalares, conforme mostrado abaixo."
      ]
    },
    {
      "cell_type": "code",
      "execution_count": 3,
      "id": "6dfb0f43",
      "metadata": {
        "colab": {
          "base_uri": "https://localhost:8080/"
        },
        "id": "6dfb0f43",
        "outputId": "687db6ad-89c0-415e-f1c3-7eae03988b93",
        "pycharm": {
          "name": "#%%\n"
        }
      },
      "outputs": [
        {
          "name": "stdout",
          "output_type": "stream",
          "text": [
            "entrada da exp: [1 2 3]\n",
            "saída da exp: [ 2.72  7.39 20.09]\n",
            "entrada da exp: 1\n",
            "saída exp: 2.718281828459045\n"
          ]
        }
      ],
      "source": [
        "# Entrada na forma de array\n",
        "array_de_entrada = np.array([1,2,3])\n",
        "exp_array   = np.exp(array_de_entrada)\n",
        "\n",
        "print(\"entrada da exp:\", array_de_entrada)\n",
        "print(\"saída da exp:\", exp_array)\n",
        "\n",
        "# Entrada dada por um único escalar\n",
        "valor_de_entrada = 1\n",
        "exp_val = np.exp(valor_de_entrada)\n",
        "\n",
        "print(\"entrada da exp:\", valor_de_entrada)\n",
        "print(\"saída exp:\", exp_val)"
      ]
    },
    {
      "cell_type": "markdown",
      "id": "e1f5a35c",
      "metadata": {
        "id": "e1f5a35c",
        "pycharm": {
          "name": "#%% md\n"
        }
      },
      "source": [
        "A função `sigmoide` é implementada em Python conforme mostrado abaixo"
      ]
    },
    {
      "cell_type": "code",
      "execution_count": 4,
      "id": "aee495cb",
      "metadata": {
        "id": "aee495cb",
        "pycharm": {
          "name": "#%%\n"
        }
      },
      "outputs": [],
      "source": [
        "def sigmoide(z):\n",
        "    \"\"\"\n",
        "    Calcula o valor sigmoide de z\n",
        "\n",
        "    Argumento:\n",
        "        z (ndarray): Um escalar ou numpy array de qualquer tamanho.\n",
        "\n",
        "    Retorna:\n",
        "        g (ndarray): sigmoid(z), com o mesmo shape de z\n",
        "\n",
        "    \"\"\"\n",
        "\n",
        "    g = 1/(1+np.exp(-z))\n",
        "\n",
        "    return g"
      ]
    },
    {
      "cell_type": "markdown",
      "id": "c5529ac6",
      "metadata": {
        "id": "c5529ac6",
        "pycharm": {
          "name": "#%% md\n"
        }
      },
      "source": [
        "Vamos avaliar a saída dessa função para diferentes valores de `z`"
      ]
    },
    {
      "cell_type": "code",
      "execution_count": 5,
      "id": "2b7c4021",
      "metadata": {
        "colab": {
          "base_uri": "https://localhost:8080/",
          "height": 708
        },
        "id": "2b7c4021",
        "outputId": "79bfbe8e-a2d1-46e1-8b4c-276bf94c726d",
        "pycharm": {
          "name": "#%%\n"
        }
      },
      "outputs": [
        {
          "data": {
            "text/html": [
              "<div>\n",
              "<style scoped>\n",
              "    .dataframe tbody tr th:only-of-type {\n",
              "        vertical-align: middle;\n",
              "    }\n",
              "\n",
              "    .dataframe tbody tr th {\n",
              "        vertical-align: top;\n",
              "    }\n",
              "\n",
              "    .dataframe thead th {\n",
              "        text-align: right;\n",
              "    }\n",
              "</style>\n",
              "<table border=\"1\" class=\"dataframe\">\n",
              "  <thead>\n",
              "    <tr style=\"text-align: right;\">\n",
              "      <th></th>\n",
              "      <th>Entrada (z)</th>\n",
              "      <th>Saída (sigmoide(z))</th>\n",
              "    </tr>\n",
              "  </thead>\n",
              "  <tbody>\n",
              "    <tr>\n",
              "      <th>0</th>\n",
              "      <td>-10</td>\n",
              "      <td>0.000045</td>\n",
              "    </tr>\n",
              "    <tr>\n",
              "      <th>1</th>\n",
              "      <td>-9</td>\n",
              "      <td>0.000123</td>\n",
              "    </tr>\n",
              "    <tr>\n",
              "      <th>2</th>\n",
              "      <td>-8</td>\n",
              "      <td>0.000335</td>\n",
              "    </tr>\n",
              "    <tr>\n",
              "      <th>3</th>\n",
              "      <td>-7</td>\n",
              "      <td>0.000911</td>\n",
              "    </tr>\n",
              "    <tr>\n",
              "      <th>4</th>\n",
              "      <td>-6</td>\n",
              "      <td>0.002473</td>\n",
              "    </tr>\n",
              "    <tr>\n",
              "      <th>5</th>\n",
              "      <td>-5</td>\n",
              "      <td>0.006693</td>\n",
              "    </tr>\n",
              "    <tr>\n",
              "      <th>6</th>\n",
              "      <td>-4</td>\n",
              "      <td>0.017986</td>\n",
              "    </tr>\n",
              "    <tr>\n",
              "      <th>7</th>\n",
              "      <td>-3</td>\n",
              "      <td>0.047426</td>\n",
              "    </tr>\n",
              "    <tr>\n",
              "      <th>8</th>\n",
              "      <td>-2</td>\n",
              "      <td>0.119203</td>\n",
              "    </tr>\n",
              "    <tr>\n",
              "      <th>9</th>\n",
              "      <td>-1</td>\n",
              "      <td>0.268941</td>\n",
              "    </tr>\n",
              "    <tr>\n",
              "      <th>10</th>\n",
              "      <td>0</td>\n",
              "      <td>0.500000</td>\n",
              "    </tr>\n",
              "    <tr>\n",
              "      <th>11</th>\n",
              "      <td>1</td>\n",
              "      <td>0.731059</td>\n",
              "    </tr>\n",
              "    <tr>\n",
              "      <th>12</th>\n",
              "      <td>2</td>\n",
              "      <td>0.880797</td>\n",
              "    </tr>\n",
              "    <tr>\n",
              "      <th>13</th>\n",
              "      <td>3</td>\n",
              "      <td>0.952574</td>\n",
              "    </tr>\n",
              "    <tr>\n",
              "      <th>14</th>\n",
              "      <td>4</td>\n",
              "      <td>0.982014</td>\n",
              "    </tr>\n",
              "    <tr>\n",
              "      <th>15</th>\n",
              "      <td>5</td>\n",
              "      <td>0.993307</td>\n",
              "    </tr>\n",
              "    <tr>\n",
              "      <th>16</th>\n",
              "      <td>6</td>\n",
              "      <td>0.997527</td>\n",
              "    </tr>\n",
              "    <tr>\n",
              "      <th>17</th>\n",
              "      <td>7</td>\n",
              "      <td>0.999089</td>\n",
              "    </tr>\n",
              "    <tr>\n",
              "      <th>18</th>\n",
              "      <td>8</td>\n",
              "      <td>0.999665</td>\n",
              "    </tr>\n",
              "    <tr>\n",
              "      <th>19</th>\n",
              "      <td>9</td>\n",
              "      <td>0.999877</td>\n",
              "    </tr>\n",
              "    <tr>\n",
              "      <th>20</th>\n",
              "      <td>10</td>\n",
              "      <td>0.999955</td>\n",
              "    </tr>\n",
              "  </tbody>\n",
              "</table>\n",
              "</div>"
            ],
            "text/plain": [
              "    Entrada (z)  Saída (sigmoide(z))\n",
              "0           -10             0.000045\n",
              "1            -9             0.000123\n",
              "2            -8             0.000335\n",
              "3            -7             0.000911\n",
              "4            -6             0.002473\n",
              "5            -5             0.006693\n",
              "6            -4             0.017986\n",
              "7            -3             0.047426\n",
              "8            -2             0.119203\n",
              "9            -1             0.268941\n",
              "10            0             0.500000\n",
              "11            1             0.731059\n",
              "12            2             0.880797\n",
              "13            3             0.952574\n",
              "14            4             0.982014\n",
              "15            5             0.993307\n",
              "16            6             0.997527\n",
              "17            7             0.999089\n",
              "18            8             0.999665\n",
              "19            9             0.999877\n",
              "20           10             0.999955"
            ]
          },
          "metadata": {},
          "output_type": "display_data"
        }
      ],
      "source": [
        "# Gerando uma array com valores entre -10 e 10\n",
        "z_tmp = np.arange(-10,11)\n",
        "\n",
        "# Usando a função\n",
        "y = sigmoide(z_tmp)\n",
        "\n",
        "\n",
        "# Criando uma tabela na forma de pandas dataframe\n",
        "\n",
        "import pandas as pd # importa a biblioteca pandas\n",
        "\n",
        "df = pd.DataFrame({\n",
        "    'Entrada (z)': z_tmp,\n",
        "    \"Saída (sigmoide(z))\": y\n",
        "})\n",
        "\n",
        "pd.set_option('display.max_rows', None)\n",
        "display(df)"
      ]
    },
    {
      "cell_type": "markdown",
      "id": "9a1de6e1",
      "metadata": {
        "id": "9a1de6e1",
        "pycharm": {
          "name": "#%% md\n"
        }
      },
      "source": [
        "Os valores da esquerda são `z`, e os valores da coluna da esquerda são `sigmoid(z)`. Como você pode observar, os valores de entrada vão de -10 a 10, e os valores de saída vão de 0 a 1.\n",
        "\n",
        "Vamos agora plotar essa função usando a biblioteca `matplotlib`."
      ]
    },
    {
      "cell_type": "code",
      "execution_count": 6,
      "id": "db9459d2",
      "metadata": {
        "colab": {
          "base_uri": "https://localhost:8080/",
          "height": 350
        },
        "id": "db9459d2",
        "outputId": "5e212a0a-31e1-44f1-c923-3fe624f8832c",
        "pycharm": {
          "name": "#%%\n"
        }
      },
      "outputs": [
        {
          "data": {
            "text/plain": [
              "Text(0.5, 0, 'z')"
            ]
          },
          "execution_count": 6,
          "metadata": {},
          "output_type": "execute_result"
        },
        {
          "data": {
            "image/png": "[encoded data removed]",
            "text/plain": [
              "<Figure size 500x300 with 1 Axes>"
            ]
          },
          "metadata": {},
          "output_type": "display_data"
        }
      ],
      "source": [
        "fig,ax = plt.subplots(1,1,figsize=(5,3))\n",
        "ax.plot(z_tmp, y, c=\"b\")\n",
        "\n",
        "ax.set_title(\"Função sigmoide\")\n",
        "ax.set_ylabel('sigmoide(z)')\n",
        "ax.set_xlabel('z')"
      ]
    },
    {
      "cell_type": "markdown",
      "id": "7c0d7de8",
      "metadata": {
        "id": "7c0d7de8",
        "pycharm": {
          "name": "#%% md\n"
        }
      },
      "source": [
        "Conforme você pode observar, a função sigmoide tende a `0` conforme `z` atinge grandes valores negativos e tende a `1` conforme `z` atinge grandes valores positivos"
      ]
    },
    {
      "cell_type": "markdown",
      "id": "fcba68db",
      "metadata": {
        "id": "fcba68db",
        "pycharm": {
          "name": "#%% md\n"
        }
      },
      "source": [
        "## Regressão Logística\n",
        "\n",
        "Um modelo de Regressão Logística aplica a função sigmoide para o modelo de regressão linear, conforme mostrado abaixo:\n",
        "\n",
        "$$ f_{\\mathbf{w},b}(\\mathbf{x}^{(i)}) = g(\\mathbf{w} \\cdot \\mathbf{x}^{(i)} + b ) \\tag{2} $$\n",
        "\n",
        "  onde\n",
        "\n",
        "  $g(z) = \\frac{1}{1+e^{-z}}\\tag{3}$\n"
      ]
    },
    {
      "cell_type": "markdown",
      "id": "21fac79a",
      "metadata": {
        "id": "21fac79a",
        "pycharm": {
          "name": "#%% md\n"
        }
      },
      "source": [
        "Para os dados abaixo, busque encontrar 'manualmente' quais seriam valores adequados para 'w' e 'b' que fazem com que o modelo seja capaz de diferenciar um tumor maligno de um tumor benigno."
      ]
    },
    {
      "cell_type": "code",
      "execution_count": 7,
      "id": "59bab6df",
      "metadata": {
        "colab": {
          "base_uri": "https://localhost:8080/",
          "height": 272
        },
        "id": "59bab6df",
        "outputId": "75cf6911-e696-47f3-82da-02e2440136c4",
        "pycharm": {
          "name": "#%%\n"
        },
        "tags": []
      },
      "outputs": [
        {
          "name": "stdout",
          "output_type": "stream",
          "text": [
            "(6,)\n",
            "(6,)\n"
          ]
        },
        {
          "data": {
            "text/html": [
              "<div>\n",
              "<style scoped>\n",
              "    .dataframe tbody tr th:only-of-type {\n",
              "        vertical-align: middle;\n",
              "    }\n",
              "\n",
              "    .dataframe tbody tr th {\n",
              "        vertical-align: top;\n",
              "    }\n",
              "\n",
              "    .dataframe thead th {\n",
              "        text-align: right;\n",
              "    }\n",
              "</style>\n",
              "<table border=\"1\" class=\"dataframe\">\n",
              "  <thead>\n",
              "    <tr style=\"text-align: right;\">\n",
              "      <th></th>\n",
              "      <th>Entrada (x)</th>\n",
              "      <th>z</th>\n",
              "      <th>Prob. de ser malígno</th>\n",
              "      <th>Alvo</th>\n",
              "    </tr>\n",
              "  </thead>\n",
              "  <tbody>\n",
              "    <tr>\n",
              "      <th>0</th>\n",
              "      <td>0.0</td>\n",
              "      <td>-4.0</td>\n",
              "      <td>0.017986</td>\n",
              "      <td>0</td>\n",
              "    </tr>\n",
              "    <tr>\n",
              "      <th>1</th>\n",
              "      <td>1.0</td>\n",
              "      <td>-2.0</td>\n",
              "      <td>0.119203</td>\n",
              "      <td>0</td>\n",
              "    </tr>\n",
              "    <tr>\n",
              "      <th>2</th>\n",
              "      <td>2.0</td>\n",
              "      <td>0.0</td>\n",
              "      <td>0.500000</td>\n",
              "      <td>0</td>\n",
              "    </tr>\n",
              "    <tr>\n",
              "      <th>3</th>\n",
              "      <td>3.0</td>\n",
              "      <td>2.0</td>\n",
              "      <td>0.880797</td>\n",
              "      <td>1</td>\n",
              "    </tr>\n",
              "    <tr>\n",
              "      <th>4</th>\n",
              "      <td>4.0</td>\n",
              "      <td>4.0</td>\n",
              "      <td>0.982014</td>\n",
              "      <td>1</td>\n",
              "    </tr>\n",
              "    <tr>\n",
              "      <th>5</th>\n",
              "      <td>5.0</td>\n",
              "      <td>6.0</td>\n",
              "      <td>0.997527</td>\n",
              "      <td>1</td>\n",
              "    </tr>\n",
              "  </tbody>\n",
              "</table>\n",
              "</div>"
            ],
            "text/plain": [
              "   Entrada (x)    z  Prob. de ser malígno  Alvo\n",
              "0          0.0 -4.0              0.017986     0\n",
              "1          1.0 -2.0              0.119203     0\n",
              "2          2.0  0.0              0.500000     0\n",
              "3          3.0  2.0              0.880797     1\n",
              "4          4.0  4.0              0.982014     1\n",
              "5          5.0  6.0              0.997527     1"
            ]
          },
          "metadata": {},
          "output_type": "display_data"
        }
      ],
      "source": [
        "x_trein = np.array([0., 1, 2, 3, 4, 5])\n",
        "y_trein = np.array([0,  0, 0, 1, 1, 1])\n",
        "\n",
        "w = 2\n",
        "b = -4\n",
        "\n",
        "z = w*x_trein + b\n",
        "f = sigmoide(z)\n",
        "\n",
        "print(z.shape)\n",
        "print(f.shape)\n",
        "\n",
        "# Criando uma tabela na forma de pandas dataframe\n",
        "\n",
        "df = pd.DataFrame({\n",
        "    'Entrada (x)': x_trein,\n",
        "    'z': z,\n",
        "    'Prob. de ser malígno': f,\n",
        "    'Alvo': y_trein\n",
        "})\n",
        "\n",
        "pd.set_option('display.max_rows', None)\n",
        "display(df)"
      ]
    },
    {
      "cell_type": "markdown",
      "id": "d0537e8f",
      "metadata": {
        "id": "d0537e8f"
      },
      "source": [
        "Abaixo nós plotamos a curva de probabilidade obtida por meio do cálculo da saída do modelo para diferentes valores para x"
      ]
    },
    {
      "cell_type": "code",
      "execution_count": 8,
      "id": "8b256ff6",
      "metadata": {
        "colab": {
          "base_uri": "https://localhost:8080/",
          "height": 307
        },
        "id": "8b256ff6",
        "outputId": "67b38f10-527e-49be-9e00-02b91cf13d9c"
      },
      "outputs": [
        {
          "data": {
            "image/png": "[encoded data removed]",
            "text/plain": [
              "<Figure size 400x300 with 1 Axes>"
            ]
          },
          "metadata": {},
          "output_type": "display_data"
        }
      ],
      "source": [
        "x_train = np.array([0., 1, 2, 3, 4, 5])\n",
        "y_train = np.array([0,  0, 0, 1, 1, 1])\n",
        "\n",
        "pos = y_train == 1\n",
        "neg = y_train == 0\n",
        "\n",
        "fig,ax = plt.subplots(1,1,figsize=(4,3))\n",
        "\n",
        "ax.scatter(x_train[pos], y_train[pos], marker='x', s=80, c = 'red', label=\"y=1\")\n",
        "ax.scatter(x_train[neg], y_train[neg], marker='o', s=100, label=\"y=0\", facecolors='none',\n",
        "              edgecolors='b',lw=3)\n",
        "\n",
        "x = np.arange(0,5,0.01)\n",
        "z = w*x + b\n",
        "f = sigmoide(z)\n",
        "ax.plot(x, f, c = 'green',label=\"saída do modelo (probabilidade)\")\n",
        "ax.legend()\n",
        "\n",
        "\n",
        "plt.tight_layout()\n",
        "plt.show()"
      ]
    },
    {
      "cell_type": "markdown",
      "id": "7d2b8321",
      "metadata": {
        "id": "7d2b8321",
        "pycharm": {
          "name": "#%% md\n"
        }
      },
      "source": [
        "## Parabéns\n",
        "\n",
        "Com este código, você:\n",
        "- Explorou o conceito de classificação\n",
        "- implementou e utilizou a função sigmoide dentro do contexto de Regressão Logística"
      ]
    },
    {
      "cell_type": "markdown",
      "id": "V0aAze891GzH",
      "metadata": {
        "id": "V0aAze891GzH"
      },
      "source": [
        "# Parte 2  \n",
        "1) A função sigmoide é usada para transformar os resultados de uma regressão linear em uma probabilidade entre 0 e 1. Realizando uma conversão dos valores da equação linear (z=w*x + b) mapeando-os para uma faixa de probabilidade da amostra pertencer a uma determinada classe.  \n",
        "2)  Utilizando w=2 e b=-4, é possível notar uma separação, dada pela função sigmoide, entre as classes 0 e 1 para este exemplo.  "
      ]
    }
  ],
  "metadata": {
    "colab": {
      "provenance": []
    },
    "kernelspec": {
      "display_name": "Python 3 (ipykernel)",
      "language": "python",
      "name": "python3"
    },
    "language_info": {
      "codemirror_mode": {
        "name": "ipython",
        "version": 3
      },
      "file_extension": ".py",
      "mimetype": "text/x-python",
      "name": "python",
      "nbconvert_exporter": "python",
      "pygments_lexer": "ipython3",
      "version": "3.12.5"
    }
  },
  "nbformat": 4,
  "nbformat_minor": 5
}
